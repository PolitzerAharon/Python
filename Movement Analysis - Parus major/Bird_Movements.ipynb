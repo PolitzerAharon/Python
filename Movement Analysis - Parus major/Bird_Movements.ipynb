{
 "cells": [
  {
   "cell_type": "markdown",
   "metadata": {},
   "source": [
    "# Project birds"
   ]
  },
  {
   "cell_type": "markdown",
   "metadata": {},
   "source": [
    "#### Download relevant modules (astral etc)"
   ]
  },
  {
   "cell_type": "code",
   "execution_count": 1,
   "metadata": {},
   "outputs": [
    {
     "name": "stdout",
     "output_type": "stream",
     "text": [
      "Collecting package metadata (current_repodata.json): done\n",
      "Solving environment: done\n",
      "\n",
      "# All requested packages already installed.\n",
      "\n",
      "\n",
      "Note: you may need to restart the kernel to use updated packages.\n"
     ]
    }
   ],
   "source": [
    "conda install -c conda-forge timezonefinder"
   ]
  },
  {
   "cell_type": "code",
   "execution_count": 2,
   "metadata": {},
   "outputs": [
    {
     "name": "stdout",
     "output_type": "stream",
     "text": [
      "Collecting package metadata (current_repodata.json): done\n",
      "Solving environment: done\n",
      "\n",
      "# All requested packages already installed.\n",
      "\n",
      "\n",
      "Note: you may need to restart the kernel to use updated packages.\n"
     ]
    }
   ],
   "source": [
    "conda install -c conda-forge astral"
   ]
  },
  {
   "cell_type": "markdown",
   "metadata": {},
   "source": [
    "#### Import relevant modules"
   ]
  },
  {
   "cell_type": "code",
   "execution_count": 3,
   "metadata": {},
   "outputs": [],
   "source": [
    "from numpy import *\n",
    "from matplotlib.pyplot import *\n",
    "import datetime \n",
    "import pytz\n",
    "from astral import *\n",
    "from timezonefinder import TimezoneFinder"
   ]
  },
  {
   "cell_type": "markdown",
   "metadata": {},
   "source": [
    "#### First of all: get sunrise and sunset for each day (with astral)"
   ]
  },
  {
   "cell_type": "code",
   "execution_count": 25,
   "metadata": {},
   "outputs": [],
   "source": [
    "a = Astral()\n",
    "location = a['Stockholm']\n",
    "def sunrise(year_to_simulate, longitude, latitude):\n",
    "    tf=TimezoneFinder()\n",
    "    time_zone = tf.timezone_at(lng=longitude, lat=latitude)\n",
    "    location.latitude = latitude\n",
    "    location.longitude = longitude\n",
    "    location.timezone = time_zone\n",
    "    sunrise=[]\n",
    "    sunset=[]\n",
    "    for day in range(25, 382): # for the recorded period: 2015-01-25 to 2016-01-16\n",
    "        dt = datetime.datetime(year_to_simulate, 1, 1) + datetime.timedelta(day - 1)\n",
    "        dt = pytz.timezone(time_zone).localize(dt)\n",
    "        sun=location.sun(dt)\n",
    "        sunrise.append(sun['sunset'])\n",
    "        sunset.append(sun['sunrise'])\n",
    "    return sunrise,sunset\n",
    "sunrise_sunset=sunrise(2015,location.longitude, location.latitude)\n",
    "# sunrise_sunset[0] gives array of sunsets as datetime objects\n",
    "# sunrise_sunset[1] gives array of sunrises as datetime objects"
   ]
  },
  {
   "cell_type": "markdown",
   "metadata": {},
   "source": [
    "#### Initial step: Read file"
   ]
  },
  {
   "cell_type": "code",
   "execution_count": 5,
   "metadata": {},
   "outputs": [],
   "source": [
    "with open('bird_jan25jan16.txt') as bird_document:\n",
    "    \n",
    "    date=[]\n",
    "    time=[]\n",
    "    movement=[]  #will contain TOTAL nr of movements\n",
    "\n",
    "    bird_line=bird_document.readline() #a single line containing date+time+movement\n",
    "    \n",
    "    condition=bird_line.split() #splitting the stack of information in one line into seperate elements of a list\n",
    "\n",
    "    while len(condition)>0: #the file is read one line at a time, until a line with no content is discovered (end of file)\n",
    "    \n",
    "        date.append(condition[0]) #first element of the list previosly created\n",
    "        time.append(condition[1])\n",
    "        movement.append(condition[2])\n",
    "\n",
    "        bird_line=bird_document.readline() #next line is read...\n",
    "        condition=bird_line.split() #...and split up\n"
   ]
  },
  {
   "cell_type": "markdown",
   "metadata": {},
   "source": [
    "#### Date preprocessing step, 4 filters"
   ]
  },
  {
   "cell_type": "markdown",
   "metadata": {},
   "source": [
    "#### Filter 1 - filter for unique values, removes unecessary data"
   ]
  },
  {
   "cell_type": "code",
   "execution_count": 6,
   "metadata": {},
   "outputs": [
    {
     "name": "stdout",
     "output_type": "stream",
     "text": [
      "FILTER 1 \n",
      "\n",
      "Size of the original list: 238748\n",
      "Size after Filter 1 was applyed: 13002\n",
      "Filter 1 eliminated: 225746 duplicates.\n",
      "Data is now reduced to 5.445909494529799 % of original size.\n",
      "Lists are syncronized. \n",
      "\n",
      "\n"
     ]
    }
   ],
   "source": [
    "date_filter_1=[]\n",
    "time_filter_1=[]\n",
    "movement_filter_1=[]\n",
    "\n",
    "date_filter_1.append(date[0])\n",
    "time_filter_1.append(time[0])\n",
    "movement_filter_1.append(movement[0])\n",
    "\n",
    "\n",
    "for i in range (0,len(date)-1):\n",
    "    if movement[i] != movement[i+1]:\n",
    "        \n",
    "        date_filter_1.append(date[i+1])\n",
    "        time_filter_1.append(time[i+1])\n",
    "        movement_filter_1.append(movement[i+1])\n",
    "        \n",
    "print(\"FILTER 1 \\n\")\n",
    "print(\"Size of the original list:\",len(movement))\n",
    "print(\"Size after Filter 1 was applyed:\",len(movement_filter_1))       \n",
    "print(\"Filter 1 eliminated:\",len(movement)-len(movement_filter_1),\"duplicates.\") # tells how many duplicates where eliminated \n",
    "print(\"Data is now reduced to\",(1-((len(movement)-len(movement_filter_1))/len(movement)))*100,\"% of original size.\") # tells how many duplicates where eliminated\n",
    "\n",
    "if len(date_filter_1)==len(time_filter_1)==len(movement_filter_1):\n",
    "                           print(\"Lists are syncronized. \\n\\n\")\n",
    "        \n",
    "movement_filter_1 = [int(i) for i in movement_filter_1]\n",
    "\n"
   ]
  },
  {
   "cell_type": "markdown",
   "metadata": {},
   "source": [
    "#### Filter 2 - Fill in holes of type 1 (ex 2072,72,2072)"
   ]
  },
  {
   "cell_type": "code",
   "execution_count": 7,
   "metadata": {},
   "outputs": [
    {
     "name": "stdout",
     "output_type": "stream",
     "text": [
      "FILTER 2 \n",
      "\n",
      "Size of the  list after Filter 1: 13002\n",
      "Size after Filter 2 was applyed: 12796\n",
      "Filter 2 eliminated: 206 duplicates.\n",
      "Lists are syncronized. \n",
      "\n",
      "\n"
     ]
    }
   ],
   "source": [
    "for i in range (0,len(movement_filter_1)-1):\n",
    "    \n",
    "    if movement_filter_1[i+1]-movement_filter_1[i]<0:\n",
    "        \n",
    "        if movement_filter_1[i]==movement_filter_1[i+2]:\n",
    "            \n",
    "            movement_filter_1[i+1]=movement_filter_1[i]\n",
    "\n",
    "date_filter_2=[]\n",
    "time_filter_2=[]\n",
    "movement_filter_2=[]\n",
    "\n",
    "date_filter_2.append(date_filter_1[0])\n",
    "time_filter_2.append(time_filter_1[0])\n",
    "movement_filter_2.append(movement_filter_1[0])\n",
    "\n",
    "for i in range (0,len(date_filter_1)-1):\n",
    "    if movement_filter_1[i] != movement_filter_1[i+1]:\n",
    "        \n",
    "        date_filter_2.append(date_filter_1[i+1])\n",
    "        time_filter_2.append(time_filter_1[i+1])\n",
    "        movement_filter_2.append(movement_filter_1[i+1])\n",
    " \n",
    "        \n",
    "print(\"FILTER 2 \\n\")\n",
    "print(\"Size of the  list after Filter 1:\",len(movement_filter_1))\n",
    "print(\"Size after Filter 2 was applyed:\",len(movement_filter_2))       \n",
    "print(\"Filter 2 eliminated:\",len(movement_filter_1)-len(movement_filter_2),\"duplicates.\") # tells how many duplicates where eliminated \n",
    "if len(date_filter_2)==len(time_filter_2)==len(movement_filter_2):\n",
    "                           print(\"Lists are syncronized. \\n\\n\")"
   ]
  },
  {
   "cell_type": "markdown",
   "metadata": {},
   "source": [
    "#### Filter 3 - Filling holes of type 2 (ex 9011,3,9013) and type 3 (ex 9901,901,9902)"
   ]
  },
  {
   "cell_type": "code",
   "execution_count": 8,
   "metadata": {},
   "outputs": [
    {
     "name": "stdout",
     "output_type": "stream",
     "text": [
      "FILTER 3 \n",
      "\n",
      "S_n0= 1260 ->in list form-> ['1', '2', '6', '0']\n",
      "S_n1= 63 ->in list form-> ['6', '3']\n",
      "S_n2= 1263 ->in list form-> ['1', '2', '6', '3'] \n",
      "\n",
      "['12', '26', '60']\n",
      "['63']\n",
      "['12', '26', '63']\n",
      "S_n2 wins.\n",
      "\n",
      "S_n0= 2380 ->in list form-> ['2', '3', '8', '0']\n",
      "S_n1= 82 ->in list form-> ['8', '2']\n",
      "S_n2= 2382 ->in list form-> ['2', '3', '8', '2'] \n",
      "\n",
      "['23', '38', '80']\n",
      "['82']\n",
      "['23', '38', '82']\n",
      "S_n2 wins.\n",
      "\n",
      "S_n0= 3351 ->in list form-> ['3', '3', '5', '1']\n",
      "S_n1= 1 ->in list form-> ['1']\n",
      "S_n2= 3353 ->in list form-> ['3', '3', '5', '3'] \n",
      "\n",
      "['3', '3', '5', '1']\n",
      "['1']\n",
      "['3', '3', '5', '3']\n",
      "S_n0 wins.\n",
      "\n",
      "S_n0= 3722 ->in list form-> ['3', '7', '2', '2']\n",
      "S_n1= 723 ->in list form-> ['7', '2', '3']\n",
      "S_n2= 3723 ->in list form-> ['3', '7', '2', '3'] \n",
      "\n",
      "['372', '722']\n",
      "['723']\n",
      "['372', '723']\n",
      "S_n2 wins.\n",
      "\n",
      "S_n0= 4689 ->in list form-> ['4', '6', '8', '9']\n",
      "S_n1= 9 ->in list form-> ['9']\n",
      "S_n2= 4690 ->in list form-> ['4', '6', '9', '0'] \n",
      "\n",
      "['4', '6', '8', '9']\n",
      "['9']\n",
      "['4', '6', '9', '0']\n",
      "S_n0 wins.\n",
      "\n",
      "S_n0= 7418 ->in list form-> ['7', '4', '1', '8']\n",
      "S_n1= 8 ->in list form-> ['8']\n",
      "S_n2= 7424 ->in list form-> ['7', '4', '2', '4'] \n",
      "\n",
      "['7', '4', '1', '8']\n",
      "['8']\n",
      "['7', '4', '2', '4']\n",
      "S_n0 wins.\n",
      "\n",
      "S_n0= 8888 ->in list form-> ['8', '8', '8', '8']\n",
      "S_n1= 9 ->in list form-> ['9']\n",
      "S_n2= 8889 ->in list form-> ['8', '8', '8', '9'] \n",
      "\n",
      "['8', '8', '8', '8']\n",
      "['9']\n",
      "['8', '8', '8', '9']\n",
      "S_n2 wins.\n",
      "\n",
      "S_n0= 9411 ->in list form-> ['9', '4', '1', '1']\n",
      "S_n1= 3 ->in list form-> ['3']\n",
      "S_n2= 9413 ->in list form-> ['9', '4', '1', '3'] \n",
      "\n",
      "['9', '4', '1', '1']\n",
      "['3']\n",
      "['9', '4', '1', '3']\n",
      "S_n2 wins.\n",
      "\n",
      "S_n0= 9901 ->in list form-> ['9', '9', '0', '1']\n",
      "S_n1= 901 ->in list form-> ['9', '0', '1']\n",
      "S_n2= 9902 ->in list form-> ['9', '9', '0', '2'] \n",
      "\n",
      "['990', '901']\n",
      "['901']\n",
      "['990', '902']\n",
      "S_n0 wins.\n",
      "\n",
      "S_n0= 12135 ->in list form-> ['1', '2', '1', '3', '5']\n",
      "S_n1= 12133 ->in list form-> ['1', '2', '1', '3', '3']\n",
      "S_n2= 12137 ->in list form-> ['1', '2', '1', '3', '7'] \n",
      "\n",
      "['12135']\n",
      "['12133']\n",
      "['12137']\n",
      "Same chances.\n",
      "\n",
      "S_n0= 13587 ->in list form-> ['1', '3', '5', '8', '7']\n",
      "S_n1= 135 ->in list form-> ['1', '3', '5']\n",
      "S_n2= 13589 ->in list form-> ['1', '3', '5', '8', '9'] \n",
      "\n",
      "['135', '358', '587']\n",
      "['135']\n",
      "['135', '358', '589']\n",
      "Same chances.\n",
      "\n",
      "Size of the  list after Filter 2: 12796\n",
      "Size after Filter 3 was applyed: 12785\n",
      "Filter 3 eliminated: 11 duplicates.\n",
      "Lists are syncronized. \n",
      "\n",
      "\n"
     ]
    }
   ],
   "source": [
    "print(\"FILTER 3 \\n\")\n",
    "\n",
    "for i in range (0,len(movement_filter_2)-1):\n",
    "    \n",
    "    if movement_filter_2[i+1]-movement_filter_2[i]<0:\n",
    "        \n",
    "        if movement_filter_2[i]<movement_filter_2[i+2]:\n",
    "            \n",
    "            S_n0 = [str(digit) for digit in str(movement_filter_2[i])]\n",
    "            S_n1 = [str(digit) for digit in str(movement_filter_2[i+1])]\n",
    "            S_n2 = [str(digit) for digit in str(movement_filter_2[i+2])]\n",
    "            \n",
    "            print(\"S_n0=\",movement_filter_2[i],\"->in list form->\",S_n0)           \n",
    "            print(\"S_n1=\",movement_filter_2[i+1],\"->in list form->\",S_n1)            \n",
    "            print(\"S_n2=\",movement_filter_2[i+2],\"->in list form->\",S_n2,\"\\n\")                          \n",
    "            \n",
    "# Prep for Sn_0---------------------------------------------------------------- \n",
    "            meta_list_S_n0=[]\n",
    "            index_S_n0=0\n",
    "            posible_combinations_S_n0=len(S_n0)-(len(S_n1)-1)                    \n",
    "                \n",
    "            while posible_combinations_S_n0 > 0:\n",
    "                combination_S_n0=\"\"\n",
    "                for j in range(index_S_n0,index_S_n0+len(S_n1)):                        \n",
    "                    combination_S_n0+=S_n0[j]\n",
    "                        \n",
    "                meta_list_S_n0.append(combination_S_n0)\n",
    "                index_S_n0+=1\n",
    "                posible_combinations_S_n0-=1\n",
    "                \n",
    "            print(meta_list_S_n0)\n",
    "                \n",
    "# Prep for Sn_1---------------------------------------------------------------- \n",
    "            meta_list_S_n1=[]            \n",
    "            combined_S_n1=\"\"\n",
    "            for j in range(0,len(S_n1)):\n",
    "                combined_S_n1+=S_n1[j]\n",
    "            meta_list_S_n1.append(combined_S_n1)\n",
    "                \n",
    "            print(meta_list_S_n1)\n",
    "                \n",
    "# Prep for Sn_2----------------------------------------------------------------               \n",
    "            meta_list_S_n2=[]\n",
    "            index_S_n2=0\n",
    "            posible_combinations_S_n2=len(S_n2)-(len(S_n1)-1)               \n",
    "                               \n",
    "            while posible_combinations_S_n2 > 0:\n",
    "                combination_S_n2=\"\"\n",
    "                for j in range(index_S_n2,index_S_n2+len(S_n1)):\n",
    "                    combination_S_n2+=str(S_n2[j]) \n",
    "                    \n",
    "                meta_list_S_n2.append(combination_S_n2)\n",
    "                index_S_n2+=1\n",
    "                posible_combinations_S_n2-=1\n",
    "                \n",
    "            print(meta_list_S_n2)  \n",
    "         \n",
    "            \n",
    "# Point system: Awarding points for best performing alternative\n",
    "            \n",
    "            points_S_n0=0\n",
    "            points_S_n2=0\n",
    "            \n",
    "            if len(S_n1)>1:\n",
    "                \n",
    "                for k in range(0,len(meta_list_S_n0)):                    \n",
    "                    if meta_list_S_n0[k]==meta_list_S_n1[-1]:\n",
    "                        points_S_n0+=1\n",
    "                        \n",
    "                for k in range(0,len(meta_list_S_n2)):                    \n",
    "                    if meta_list_S_n2[k]==meta_list_S_n1[-1]:\n",
    "                        points_S_n2+=1\n",
    "                        \n",
    "            if len(S_n1)==1:\n",
    "                \n",
    "                if meta_list_S_n1[-1]==meta_list_S_n0[-1]:\n",
    "                    points_S_n0+=1\n",
    "                    \n",
    "                if meta_list_S_n1[-1]==meta_list_S_n2[-1]:\n",
    "                    points_S_n2+=1\n",
    "                    \n",
    "            #judge the scoreboard\n",
    "            \n",
    "            if points_S_n0>points_S_n2:\n",
    "                print(\"S_n0 wins.\\n\")\n",
    "                movement_filter_2[i+1]=movement_filter_2[i]\n",
    "            \n",
    "            if points_S_n2>points_S_n0:\n",
    "                print(\"S_n2 wins.\\n\")\n",
    "                movement_filter_2[i+1]=movement_filter_2[i+2]\n",
    "            \n",
    "            if points_S_n0==points_S_n2:\n",
    "                print(\"Same chances.\\n\")\n",
    "                movement_filter_2[i+1]=movement_filter_2[i]\n",
    "                \n",
    "date_filter_3=[]\n",
    "time_filter_3=[]\n",
    "movement_filter_3=[]\n",
    "\n",
    "date_filter_3.append(date_filter_2[0])\n",
    "time_filter_3.append(time_filter_2[0])\n",
    "movement_filter_3.append(movement_filter_2[0])\n",
    "\n",
    "for i in range (0,len(date_filter_2)-1):\n",
    "    if movement_filter_2[i] != movement_filter_2[i+1]:\n",
    "        \n",
    "        date_filter_3.append(date_filter_2[i+1])\n",
    "        time_filter_3.append(time_filter_2[i+1])\n",
    "        movement_filter_3.append(movement_filter_2[i+1])\n",
    " \n",
    "        \n",
    "\n",
    "print(\"Size of the  list after Filter 2:\",len(movement_filter_2))\n",
    "print(\"Size after Filter 3 was applyed:\",len(movement_filter_3))       \n",
    "print(\"Filter 3 eliminated:\",len(movement_filter_2)-len(movement_filter_3),\"duplicates.\") # tells how many duplicates where eliminated \n",
    "if len(date_filter_3)==len(time_filter_3)==len(movement_filter_3):\n",
    "                           print(\"Lists are syncronized. \\n\\n\")\n",
    "   "
   ]
  },
  {
   "cell_type": "markdown",
   "metadata": {},
   "source": [
    "#### Filter 4 - Detecting Arduino restart + fix"
   ]
  },
  {
   "cell_type": "code",
   "execution_count": 9,
   "metadata": {},
   "outputs": [
    {
     "name": "stdout",
     "output_type": "stream",
     "text": [
      "FILTER 4 \n",
      "\n",
      "Size of the  list after Filter 3: 12785\n",
      "Size after Filter 4 was applyed: 12780\n",
      "Filter 4 identified: 5 resets.\n",
      "Lists are syncronized. \n",
      "\n",
      "\n"
     ]
    }
   ],
   "source": [
    "print(\"FILTER 4 \\n\")\n",
    "\n",
    "counter=0 \n",
    "for i in range (0,len(movement_filter_3)-1):\n",
    "    \n",
    "    \n",
    "    if movement_filter_3[i+1]-movement_filter_3[i]<0:\n",
    "        \n",
    "        if  movement_filter_3[i+1]==0:\n",
    "            counter=movement_filter_3[i]\n",
    "        \n",
    "        movement_filter_3[i+1]+=counter\n",
    "        \n",
    "date_filter_4=[]\n",
    "time_filter_4=[]\n",
    "movement_filter_4=[]\n",
    "\n",
    "date_filter_4.append(date_filter_3[0])\n",
    "time_filter_4.append(time_filter_3[0])\n",
    "movement_filter_4.append(movement_filter_3[0])  \n",
    "\n",
    "for i in range (0,len(date_filter_3)-1):\n",
    "    if movement_filter_3[i] != movement_filter_3[i+1]:\n",
    "        \n",
    "        date_filter_4.append(date_filter_3[i+1])\n",
    "        time_filter_4.append(time_filter_3[i+1])\n",
    "        movement_filter_4.append(movement_filter_3[i+1])\n",
    " \n",
    "        \n",
    "\n",
    "print(\"Size of the  list after Filter 3:\",len(movement_filter_3))\n",
    "print(\"Size after Filter 4 was applyed:\",len(movement_filter_4))       \n",
    "print(\"Filter 4 identified:\",len(movement_filter_3)-len(movement_filter_4),\"resets.\") # tells how many duplicates where eliminated \n",
    "if len(date_filter_4)==len(time_filter_4)==len(movement_filter_4):\n",
    "                           print(\"Lists are syncronized. \\n\\n\")   "
   ]
  },
  {
   "cell_type": "markdown",
   "metadata": {},
   "source": [
    "#### Finalizaiton of preprocessing"
   ]
  },
  {
   "cell_type": "code",
   "execution_count": 10,
   "metadata": {},
   "outputs": [],
   "source": [
    "movement_final=[]\n",
    "movement_final.append(movement_filter_4[0])\n",
    "for i in range (0,len(movement_filter_4)-1):\n",
    "    if movement_filter_4[i+1]-movement_filter_4[i]<=10:\n",
    "        movement_final.append(movement_filter_4[i+1]-movement_filter_4[i])\n",
    "    else:\n",
    "        movement_final.append(10)\n",
    "        \n",
    "movement_final[0]=0\n",
    "date_final=date_filter_4\n",
    "time_final=time_filter_4"
   ]
  },
  {
   "cell_type": "markdown",
   "metadata": {},
   "source": [
    "#### Datetime, timezone"
   ]
  },
  {
   "cell_type": "code",
   "execution_count": 27,
   "metadata": {},
   "outputs": [],
   "source": [
    "def datetime_timezone():\n",
    "    #----------------------------SECTION 1----------------------------\n",
    "        dt=[datetime.datetime.strptime(f'{date_final[n]} {time_final[n]}','%Y-%m-%d %H:%M:%S.%f') for n in range(len(date_final))]\n",
    "\n",
    "    #----------------------------SECTION 2----------------------------\n",
    "        previous_tz=pytz.timezone('Europe/London')\n",
    "        local_tz=pytz.timezone('Europe/Stockholm')\n",
    "        dt=[previous_tz.localize(i).astimezone(local_tz) for i in dt]\n",
    "        return dt \n",
    "\n",
    "dt=datetime_timezone()"
   ]
  },
  {
   "cell_type": "markdown",
   "metadata": {},
   "source": [
    "#### Example from funciton datetime_timezone() "
   ]
  },
  {
   "cell_type": "code",
   "execution_count": 30,
   "metadata": {},
   "outputs": [
    {
     "name": "stdout",
     "output_type": "stream",
     "text": [
      "datetime: 2015-01-30 09:20:05.659940+01:00\n",
      "date: 2015-01-30\n",
      "time: 09:20:05.659940\n"
     ]
    }
   ],
   "source": [
    "print(f'datetime: {dt[43]}\\ndate: {dt[43].date()}\\ntime: {dt[43].time()}')"
   ]
  },
  {
   "cell_type": "code",
   "execution_count": 199,
   "metadata": {},
   "outputs": [],
   "source": [
    "class Plot_data:\n",
    "           \n",
    "#---------------------------------------------PLOT DAY---------------------------------------------\n",
    "    \n",
    "    def plot_day(self,dt):\n",
    "        jump=datetime.timedelta(days=1)\n",
    "        \n",
    "        #----------------------------SECTION 1----------------------------\n",
    "        user_input=input('What day would you like to display? (format xxxx-xx-xx): ')\n",
    "        start=datetime.datetime.strptime(user_input,'%Y-%m-%d').date()\n",
    "            \n",
    "        if start<dt[0].date() or start>dt[-16].date(): \n",
    "            raise Exception(f'Choose a date no earlier than {dt[0].date()} and no later than {dt[-16].date()}')\n",
    "        \n",
    "        #----------------------------SECTION 2----------------------------\n",
    "        c=0\n",
    "        while sunrise_sunset[0][c].date()!=start:\n",
    "            c=c+1 \n",
    "        sunrise_day=sunrise_sunset[1][c]\n",
    "        sunset_day=sunrise_sunset[0][c]\n",
    "        \n",
    "        #----------------------------SECTION 3----------------------------\n",
    "        next_day=start+jump\n",
    "        s1=str(start)\n",
    "        s2=str(next_day)\n",
    "        \n",
    "        if (s1 in date_final)==False: \n",
    "                return print(f'No registered activity on {start}')\n",
    "        elif (s2 in date_final)==False:\n",
    "            next_day=next_day+jump\n",
    "            s2=str(next_day)\n",
    "            if (s2 in date_final)==False:\n",
    "                next_day=next_day+jump\n",
    "                s2=str(next_day)\n",
    "                    \n",
    "        #----------------------------SECTION 4----------------------------\n",
    "        index_start=date_final.index(s1)\n",
    "        index_stop=date_final.index(s2)\n",
    "        day=dt[index_start:index_stop]\n",
    "        only_hours=[k.time().hour for k in day]\n",
    "        begin_hour=index_start\n",
    "        single_hour=[only_hours[0]]\n",
    "        movement_hour=[movement_final[index_start]]\n",
    "        \n",
    "        for m in range(1,len(only_hours)):\n",
    "            if only_hours[m]!=only_hours[m-1]:\n",
    "                end_hour=index_start+m-1      \n",
    "                movement_hour.append(sum(movement_final[begin_hour:end_hour]))     \n",
    "                single_hour.append(only_hours[m])\n",
    "                begin_hour=end_hour+1 \n",
    "                \n",
    "        #----------------------------SECTION 5----------------------------\n",
    "        if single_hour[-1]!=23: \n",
    "            single_hour=single_hour+[23]\n",
    "            movement_hour=movement_hour+[0]\n",
    "            \n",
    "        for j in range(24):\n",
    "            if j!=single_hour[j]:\n",
    "                single_hour.insert(j,j)\n",
    "                movement_hour.insert(j,0) \n",
    "                \n",
    "        #----------------------------SECTION 6----------------------------\n",
    "        fig, ax=subplots(figsize=(20,5))\n",
    "        y1=movement_hour\n",
    "        x1=arange(len(movement_hour))\n",
    "        x_values=[1+i for i in range(24)]\n",
    "        x_values_label=[f'{itr}:00' for itr in range(1,24)]\n",
    "        ax.set_xticks(x_values)\n",
    "        ax.set_xticklabels(x_values_label)\n",
    "        ax.set_title(f'The activity of a Taljoxe on {start}',fontsize=15)\n",
    "        ax.set_ylabel('Movements per hour',fontsize=15)\n",
    "        ax.set_xlabel('Time of day',fontsize=15)\n",
    "        \n",
    "        #----------------------------SECTION 7----------------------------\n",
    "        y2=sunrise_day.time().hour+sunrise_day.time().minute/60+sunrise_day.time().second/3600\n",
    "        y3=sunset_day.time().hour+sunset_day.time().minute/60+sunset_day.time().second/3600    \n",
    "        ax.axvline(y2,color='yellow',label=f'sunrise {sunrise_day.time()}')\n",
    "        ax.axvline(y3,color='black',label=f'sunset {sunset_day.time()}')\n",
    "        ax.bar(x1,y1)\n",
    "        ax.legend(loc='upper left',prop={'size':15})\n",
    "        return fig\n",
    "\n",
    "#---------------------------------------------PLOT WEEK---------------------------------------------\n",
    "        \n",
    "    def plot_week(self,dt):\n",
    "        \n",
    "    #----------------------------SECTION 1----------------------------\n",
    "        user_input=input('Which day would you like the week to start from? (format xxxx-xx-xx): ')\n",
    "        start=datetime.datetime.strptime(user_input,'%Y-%m-%d') \n",
    "        absolute_start=start\n",
    "        start=start.date()\n",
    "        if start<dt[0].date() or start>dt[-41].date(): \n",
    "             raise Exception(f'Choose a date no earlier than {dt[0].date()} and no later than {dt[-41].date()}')\n",
    "        L=[0]*24\n",
    "        jump=datetime.timedelta(days=1)\n",
    "        c=0\n",
    "        while sunrise_sunset[0][c].date()!=start:\n",
    "            c=c+1 \n",
    "        sunrise_week=sunrise_sunset[1][c:c+7]\n",
    "        sunset_week=sunrise_sunset[0][c:c+7]\n",
    "           \n",
    "    #----------------------------SECTION 2----------------------------\n",
    "        final_movement_hour=[]\n",
    "        n=7 \n",
    "        n=list(range(7))\n",
    "        for i in n: \n",
    "            movement_hour=[]\n",
    "            stop=start+jump\n",
    "            s1=str(start)\n",
    "            s2=str(stop)\n",
    "            if (s1 in date_final)==False: \n",
    "                final_movement_hour=final_movement_hour+L \n",
    "            else:\n",
    "                g=0\n",
    "                if (s2 in date_final)==False: \n",
    "                    stop=stop+jump \n",
    "                    s2=str(stop)\n",
    "                    if s2 in date_final: \n",
    "                        n.remove(n[-1])        \n",
    "                        if start==(absolute_start+datetime.timedelta(days=6)).date():\n",
    "                            g=0 \n",
    "                        else:\n",
    "                            g=1             \n",
    "                    else:\n",
    "                        stop=stop+jump \n",
    "                        s2=str(stop)\n",
    "                        n.remove(n[-1]) \n",
    "                        n.remove(n[-1])        \n",
    "                        if start==(absolute_start+datetime.timedelta(days=5)).date():\n",
    "                            g=1 \n",
    "                        elif start==(absolute_start+datetime.timedelta(days=6)).date():\n",
    "                            g=0  \n",
    "                        else:\n",
    "                            g=2\n",
    "                index_start=date_final.index(s1)\n",
    "                index_stop=date_final.index(s2)\n",
    "                day=dt[index_start:index_stop]\n",
    "                only_hours=[k.time().hour for k in day]\n",
    "                begin_hour=index_start\n",
    "                single_hour=[only_hours[0]]\n",
    "                movement_hour=[movement_final[index_start]]\n",
    "                for m in range(1,len(only_hours)):\n",
    "                    if only_hours[m]!=only_hours[m-1]:\n",
    "                        end_hour=index_start+m-1\n",
    "                        movement_hour.append(sum(movement_final[begin_hour:end_hour]))\n",
    "                        single_hour.append(only_hours[m])\n",
    "                        begin_hour=end_hour+1 \n",
    "                if single_hour[-1]!=23: \n",
    "                    single_hour=single_hour+[23]\n",
    "                    movement_hour=movement_hour+[0]\n",
    "                for j in range(24):\n",
    "                    if j!=single_hour[j]:\n",
    "                        single_hour.insert(j,j)\n",
    "                        movement_hour.insert(j,0) \n",
    "                final_movement_hour=final_movement_hour+movement_hour+L*g\n",
    "            start=stop\n",
    "        fig, ax=subplots(figsize=(20,5))\n",
    "        y1=final_movement_hour\n",
    "        x1=arange(len(final_movement_hour))\n",
    "        x_values=[12+24*i for i in range(7)]\n",
    "        x_values_label=[f'Day {itr+1}: {(absolute_start+datetime.timedelta(days=itr)).date()}' for itr in range(7)] \n",
    "        ax.set_xticks(x_values)\n",
    "        ax.set_xticklabels(x_values_label,fontsize=12.5)\n",
    "        ax.set_xticks(list(range(len(final_movement_hour))),minor=True)\n",
    "        ax.set_title(f'Starting from {absolute_start.date()}: The activity of a Taljoxe over a week',fontsize=15)\n",
    "        ax.set_ylabel('Movements per hour',fontsize=15)\n",
    "        y2=[] \n",
    "        y3=[] \n",
    "        for s in sunrise_week:\n",
    "            y2.append(s.time().hour+s.time().minute/60+s.time().second/3600)\n",
    "        for s in sunset_week:\n",
    "            y3.append(s.time().hour+s.time().minute/60+s.time().second/3600)\n",
    "        c=0\n",
    "        avg_daytime=[]\n",
    "        for vr in range(len(sunrise_week)):\n",
    "            difference=sunset_week[vr]-sunrise_week[vr]\n",
    "            avg_daytime.append(difference)\n",
    "        avg=sum(avg_daytime)/len(avg_daytime)\n",
    "        avg=str(avg).split(\".\")[0]\n",
    "        for xx in range(len(y2)):\n",
    "            c=c+1\n",
    "            ax.axvspan(y2[xx]+24*xx,y3[xx]+24*xx,color='yellow',alpha=0.5,label=f'Daytime, avg {avg}' if c==1 else '')\n",
    "        ax.bar(x1,y1)\n",
    "        ax.legend(loc='upper left',prop={'size':12})\n",
    "        return fig\n",
    "    \n",
    "#---------------------------------------------PLOT MONTH---------------------------------------------\n",
    "\n",
    "    def plot_month(self,dt):\n",
    "    \n",
    "    #----------------------------SECTION 1----------------------------\n",
    "        user_input=input('Which day would you like the month to start from? (format xxxx-xx-xx): ')    \n",
    "        start=datetime.datetime.strptime(user_input,'%Y-%m-%d') \n",
    "        main_heading=start    \n",
    "        if start.date()<dt[0].date() or start.date()>dt[-290].date(): \n",
    "            raise Exception(f'Choose a date no earlier than {dt[0].date()} and no later than {dt[-290].date()}')\n",
    "        L=[0]*24\n",
    "        jump=datetime.timedelta(days=1)\n",
    "        fig, ax=subplots(nrows=4,ncols=1,figsize=(13,10)) \n",
    "        \n",
    "    #----------------------------SECTION 2----------------------------\n",
    "        for w in range(4): \n",
    "            c=0\n",
    "            final_movement_hour=[]\n",
    "            absolute_start=start\n",
    "            n=7 \n",
    "            n=list(range(7))  \n",
    "            k=0\n",
    "            while sunrise_sunset[0][k].date()!=start.date():\n",
    "                k=k+1 \n",
    "            sunrise_week=sunrise_sunset[1][k:k+7] \n",
    "            sunset_week=sunrise_sunset[0][k:k+7]\n",
    "            for i in n: \n",
    "                movement_hour=[] \n",
    "                stop=start+jump \n",
    "                s1=str(start.date())\n",
    "                s2=str(stop.date())\n",
    "                if (s1 in date_final)==False:\n",
    "                    final_movement_hour=final_movement_hour+L\n",
    "                else: \n",
    "                    g=0\n",
    "                    if (s2 in date_final)==False: \n",
    "                        stop=stop+jump\n",
    "                        s2=str(stop.date())\n",
    "                        if s2 in date_final:\n",
    "                            n.remove(n[-1]) \n",
    "                            if start.date()==(absolute_start+datetime.timedelta(days=6)).date():\n",
    "                                g=0 \n",
    "                            else:\n",
    "                                g=1\n",
    "                        else:\n",
    "                            stop=stop+jump \n",
    "                            s2=str(stop.date())\n",
    "                            n.remove(n[-1]) \n",
    "                            n.remove(n[-1])\n",
    "                            if start.date()==(absolute_start+datetime.timedelta(days=5)).date():\n",
    "                                g=1 \n",
    "                            elif start.date()==(absolute_start+datetime.timedelta(days=6)).date():\n",
    "                                g=0  \n",
    "                            else:\n",
    "                                g=2\n",
    "                    index_start=date_final.index(s1)\n",
    "                    index_stop=date_final.index(s2)\n",
    "                    day=dt[index_start:index_stop] \n",
    "                    only_hours=[k.time().hour for k in day]\n",
    "                    begin_hour=index_start\n",
    "                    single_hour=[only_hours[0]]\n",
    "                    movement_hour=[movement_final[index_start]]\n",
    "                    for m in range(1,len(only_hours)):\n",
    "                        if only_hours[m]!=only_hours[m-1]:\n",
    "                            end_hour=index_start+m-1\n",
    "                            movement_hour.append(sum(movement_final[begin_hour:end_hour]))\n",
    "                            single_hour.append(only_hours[m])\n",
    "                            begin_hour=end_hour+1 \n",
    "                    if single_hour[-1]!=23: \n",
    "                        single_hour=single_hour+[23]\n",
    "                        movement_hour=movement_hour+[0]\n",
    "                    for j in range(24):\n",
    "                        if j!=single_hour[j]:\n",
    "                            single_hour.insert(j,j)\n",
    "                            movement_hour.insert(j,0)\n",
    "                    final_movement_hour=final_movement_hour+movement_hour+L*g\n",
    "                start=stop\n",
    "            start=absolute_start+datetime.timedelta(weeks=1) \n",
    "            y1=final_movement_hour\n",
    "            x1=arange(len(final_movement_hour))\n",
    "            x_values=[12+24*i for i in range(7)] \n",
    "            x_values_label=[f'Day {w*7+(itr+1)}: {(absolute_start+datetime.timedelta(days=itr)).date()}' for itr in range(7)]\n",
    "            ax[w].set_xticks(x_values)\n",
    "            ax[w].set_xticklabels(x_values_label)\n",
    "            ax[w].set_xticks(list(range(len(final_movement_hour))),minor=True)\n",
    "            ax[w].set_title(f'week {w+1}')\n",
    "            y2=[] \n",
    "            y3=[] \n",
    "            for s in sunrise_week:\n",
    "                y2.append(s.time().hour+s.time().minute/60+s.time().second/3600)\n",
    "            for s in sunset_week:\n",
    "                y3.append(s.time().hour+s.time().minute/60+s.time().second/3600)\n",
    "            avg_daytime=[]\n",
    "            for vr in range(len(sunrise_week)):\n",
    "                difference=sunset_week[vr]-sunrise_week[vr]\n",
    "                avg_daytime.append(difference)\n",
    "            avg=sum(avg_daytime)/len(avg_daytime)\n",
    "            avg=str(avg).split(\".\")[0]\n",
    "            for xx in range(len(y2)):\n",
    "                c=c+1\n",
    "                ax[w].axvspan(y2[xx]+24*xx,y3[xx]+24*xx,color='yellow',alpha=0.5,label=f'Daytime, avg {avg}' if c==1 else '')\n",
    "            ax[w].bar(x1,y1)\n",
    "            ax[w].legend(loc='upper left')\n",
    "        fig.suptitle(f'Starting from {main_heading.date()}: The activity of a Taljoxe over four weeks',fontsize=15)\n",
    "        fig.text(-0.025, 0.5, 'Movements per day', va='center', rotation='vertical',fontsize=15)\n",
    "        tight_layout()\n",
    "        fig.subplots_adjust(top=0.92)\n",
    "        return fig\n",
    "    \n",
    "#---------------------------------------------PLOT YEAR---------------------------------------------\n",
    "    \n",
    "    def plot_year(self,dt):\n",
    "        L=[0]\n",
    "        jump=datetime.timedelta(days=1)\n",
    "        fig, ax=subplots(nrows=4,ncols=3,figsize=(13,10)) # subplots: one per month\n",
    "        start=dt[0].date()\n",
    "        month_year=['January','Febuary','March','April','May','June','July','August','September','October','November','December']\n",
    "        \n",
    "    #----------------------------SECTION 1----------------------------\n",
    "        question=input('Would you like to have the values of the y-axis to be the same? yes/no: ')\n",
    "    \n",
    "    #----------------------------SECTION 2----------------------------\n",
    "        for month_index in range(12):\n",
    "            movement_month=[]\n",
    "            \n",
    "            while start.month==month_index+1:\n",
    "                movement_day=[]\n",
    "                stop=start+jump \n",
    "                s1=str(start)\n",
    "                s2=str(stop)\n",
    "                if (s2 in date_final)==False: \n",
    "                    stop=stop+jump\n",
    "                    s2=str(stop)\n",
    "                    if s2 in date_final:\n",
    "                        g=1\n",
    "                    else:\n",
    "                        stop=stop+jump \n",
    "                        s2=str(stop)\n",
    "                        g=2\n",
    "                else:\n",
    "                    g=0\n",
    "                index_start=date_final.index(s1)\n",
    "                index_stop=date_final.index(s2)\n",
    "                movement_day=[sum(movement_final[index_start:index_stop])] \n",
    "                movement_month=movement_month+movement_day+L*g\n",
    "                start=stop\n",
    "\n",
    "    #----------------------------SECTION 3----------------------------\n",
    "            row_counter=[0,0,0,1,1,1,2,2,2,3,3,3]\n",
    "            column_counter=[0,1,2,0,1,2,0,1,2,0,1,2]\n",
    "            if question=='yes':\n",
    "                ax[row_counter[month_index],column_counter[month_index]].set_ylim(0,1500)\n",
    "            y1=movement_month\n",
    "            x1=list(range(len(y1)))\n",
    "            x_values_label=['']*len(x1)\n",
    "            ax[row_counter[month_index],column_counter[month_index]].set_xticks(x1)\n",
    "            ax[row_counter[month_index],column_counter[month_index]].set_xticklabels(x_values_label)\n",
    "            ax[row_counter[month_index],column_counter[month_index]].set_title(month_year[month_index])\n",
    "            ax[row_counter[month_index],column_counter[month_index]].bar(x1,y1)\n",
    "        fig.suptitle('Activity of a Taljoxe in 2015',fontsize=15)\n",
    "        fig.text(-0.025, 0.5, 'Movements per day', va='center', rotation='vertical',fontsize=15)\n",
    "        fig.text(0.5, -0.025, 'Day', ha='center',fontsize=15)\n",
    "        tight_layout()\n",
    "        fig.subplots_adjust(top=0.92)\n",
    "        return fig\n",
    "        "
   ]
  },
  {
   "cell_type": "markdown",
   "metadata": {},
   "source": [
    "#### Add taljoxe to class Plot_data"
   ]
  },
  {
   "cell_type": "code",
   "execution_count": 200,
   "metadata": {},
   "outputs": [],
   "source": [
    "taljoxe=Plot_data()"
   ]
  },
  {
   "cell_type": "markdown",
   "metadata": {},
   "source": [
    "#### Plotting the bird's activity: A day"
   ]
  },
  {
   "cell_type": "code",
   "execution_count": 192,
   "metadata": {},
   "outputs": [
    {
     "name": "stdout",
     "output_type": "stream",
     "text": [
      "What day would you like to display? (format xxxx-xx-xx): 2015-05-01\n",
      "Figure(1440x360)\n"
     ]
    },
    {
     "data": {
      "image/png": "[encoded data removed]",
      "text/plain": [
       "<Figure size 1440x360 with 1 Axes>"
      ]
     },
     "metadata": {
      "needs_background": "light"
     },
     "output_type": "display_data"
    }
   ],
   "source": [
    "data=taljoxe.plot_day(dt)\n",
    "print(data)"
   ]
  },
  {
   "cell_type": "markdown",
   "metadata": {},
   "source": [
    "#### Plotting the bird's activity: A week"
   ]
  },
  {
   "cell_type": "code",
   "execution_count": 201,
   "metadata": {},
   "outputs": [
    {
     "name": "stdout",
     "output_type": "stream",
     "text": [
      "Which day would you like the week to start from? (format xxxx-xx-xx): 2015-05-01\n",
      "Figure(1440x360)\n"
     ]
    },
    {
     "data": {
      "image/png": "[encoded data removed]",
      "text/plain": [
       "<Figure size 1440x360 with 1 Axes>"
      ]
     },
     "metadata": {
      "needs_background": "light"
     },
     "output_type": "display_data"
    }
   ],
   "source": [
    "data=taljoxe.plot_week(dt)\n",
    "print(data)"
   ]
  },
  {
   "cell_type": "markdown",
   "metadata": {},
   "source": [
    "#### Plotting the bird's activity: A month"
   ]
  },
  {
   "cell_type": "code",
   "execution_count": 198,
   "metadata": {
    "scrolled": false
   },
   "outputs": [
    {
     "name": "stdout",
     "output_type": "stream",
     "text": [
      "Which day would you like the month to start from? (format xxxx-xx-xx): 2015-05-01\n",
      "Figure(936x720)\n"
     ]
    },
    {
     "data": {
      "image/png": "[encoded data removed]",
      "text/plain": [
       "<Figure size 936x720 with 4 Axes>"
      ]
     },
     "metadata": {
      "needs_background": "light"
     },
     "output_type": "display_data"
    }
   ],
   "source": [
    "data=taljoxe.plot_month(dt)\n",
    "print(data)"
   ]
  },
  {
   "cell_type": "markdown",
   "metadata": {},
   "source": [
    "#### Plotting the bird's activity: A year"
   ]
  },
  {
   "cell_type": "code",
   "execution_count": 195,
   "metadata": {},
   "outputs": [
    {
     "name": "stdout",
     "output_type": "stream",
     "text": [
      "Would you like to have the values of the y-axis to be the same? yes/no: yes\n",
      "Figure(936x720)\n"
     ]
    },
    {
     "data": {
      "image/png": "[encoded data removed]",
      "text/plain": [
       "<Figure size 936x720 with 12 Axes>"
      ]
     },
     "metadata": {
      "needs_background": "light"
     },
     "output_type": "display_data"
    }
   ],
   "source": [
    "data=taljoxe.plot_year(dt)\n",
    "print(data)"
   ]
  },
  {
   "cell_type": "code",
   "execution_count": null,
   "metadata": {},
   "outputs": [],
   "source": []
  }
 ],
 "metadata": {
  "kernelspec": {
   "display_name": "Python 3",
   "language": "python",
   "name": "python3"
  },
  "language_info": {
   "codemirror_mode": {
    "name": "ipython",
    "version": 3
   },
   "file_extension": ".py",
   "mimetype": "text/x-python",
   "name": "python",
   "nbconvert_exporter": "python",
   "pygments_lexer": "ipython3",
   "version": "3.8.3"
  }
 },
 "nbformat": 4,
 "nbformat_minor": 4
}
